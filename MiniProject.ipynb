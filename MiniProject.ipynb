{
 "cells": [
  {
   "cell_type": "code",
   "execution_count": 363,
   "id": "72ed8513-e929-4f0c-976e-d0296724032f",
   "metadata": {},
   "outputs": [],
   "source": [
    "import pandas as pd\n",
    "import numpy as np\n",
    "import random\n",
    "from datetime import datetime,timedelta\n",
    "import seaborn as sns\n",
    "import datetime as dt\n",
    "import pytz\n",
    "\n",
    "import matplotlib.pyplot as plt\n",
    "import xgboost as xgb\n",
    "from sklearn.metrics import mean_squared_error,r2_score\n",
    "from sklearn.preprocessing import MinMaxScaler\n",
    "import warnings\n",
    "warnings.filterwarnings('ignore')\n",
    "import os\n",
    "\n",
    "import numpy as np\n",
    "from xgboost import XGBClassifier\n",
    "from sklearn.model_selection import train_test_split\n",
    "from sklearn.metrics import accuracy_score, classification_report\n",
    "from sklearn.preprocessing import LabelEncoder"
   ]
  },
  {
   "cell_type": "code",
   "execution_count": 364,
   "id": "4721b2a6-2bb2-4aac-8f86-30837432d03b",
   "metadata": {},
   "outputs": [],
   "source": [
    "def kumpulaDataPre(data):\n",
    "    data['Date'] = pd.to_datetime(dict(year=data.Year, month=data.Month, day=data.Day, hour=data.Hour, minute=data.Minute, second=data.Second))\n",
    "    data.set_index('Date',inplace=True)\n",
    "    data.drop(columns=['Year','Month','Day','Hour','Minute','Second'],inplace=True)\n",
    "    \n",
    "    data.rename(columns={'KUM_META.rmm':'rmm',\n",
    "                      'KUM_META.wdir':'wind diretion',\n",
    "                      'KUM_META.t':'temperature',\n",
    "                      'KUM_META.rh':'relative humidity',\n",
    "                      'KUM_META.pwd_visibility_1':'visibility',\n",
    "                      'KUM_META.ws':'windspeed'\n",
    "                     },inplace=True)\n",
    "    \n",
    "\n",
    "    return data"
   ]
  },
  {
   "cell_type": "code",
   "execution_count": 365,
   "id": "6ea85432-60c0-4efa-96e7-02a0cd89ac2e",
   "metadata": {},
   "outputs": [],
   "source": [
    "#meteorolgy data\n",
    "Mdata=pd.read_csv('Mdata_10.02-10.23.csv')\n",
    "Mdata=kumpulaDataPre(Mdata)\n",
    "Mdata.drop(columns=['KUM_META.pwd_rmm'],inplace=True)"
   ]
  },
  {
   "cell_type": "code",
   "execution_count": 366,
   "id": "324fe939-9d99-47ec-b6ba-81dbf2491176",
   "metadata": {
    "tags": []
   },
   "outputs": [],
   "source": [
    "# bus cancelled Time data\n",
    "folder='data/cancelled_route_data/'\n",
    "busdata=[]\n",
    "for file in os.listdir(folder):\n",
    "    if '.json' in file:\n",
    "        # print(folder+file)\n",
    "        jsondata = pd.read_json(folder+file)\n",
    "        df=pd.json_normalize(jsondata['data']['cancelledTripTimes'])\n",
    "        df['scheduledDeparture'] = pd.to_timedelta(df['scheduledDeparture'], unit='s')\n",
    "        df['serviceDay'] = pd.to_datetime(df['serviceDay'], unit='s', origin='unix', utc=True)\n",
    "        df['serviceDay']=df['serviceDay'].dt.tz_convert(pytz.timezone('Europe/Bucharest'))\n",
    "        df['scheduledDeparture'] = df['serviceDay'] + df['scheduledDeparture']\n",
    "        df.drop(columns=['serviceDay'],inplace=True)\n",
    "        busdata.append(df)\n",
    "\n",
    "busCdata=pd.concat(busdata)\n",
    "# Busdata['scheduledDeparture']=Busdata['scheduledDeparture'].round('H')\n",
    "busCdata['scheduledDeparture'] = busCdata['scheduledDeparture'].dt.strftime('%Y-%m-%d %H:%M:%S')\n",
    "busCdata.set_index('scheduledDeparture',inplace=True)\n",
    "\n",
    "# busCdata.head()"
   ]
  },
  {
   "cell_type": "code",
   "execution_count": 367,
   "id": "b4aea230-e48a-4631-9ecf-b59bd4b7eb0f",
   "metadata": {},
   "outputs": [],
   "source": [
    "# bus regular Time data\n",
    "busRdata=pd.read_excel('bus_regular_times.xlsx')\n",
    "busRdata['Departure time'] = busRdata['Departure time'].apply(lambda x: x.strftime('%H:%M:%S'))"
   ]
  },
  {
   "cell_type": "code",
   "execution_count": 404,
   "id": "71c66511-cc9d-41e2-9f02-da2f96a9de67",
   "metadata": {},
   "outputs": [],
   "source": [
    "# get the bus names\n",
    "busnames=busRdata['Bus Name'].unique()"
   ]
  },
  {
   "cell_type": "code",
   "execution_count": 412,
   "id": "beea74b6-b7f9-4616-a271-7ed6b46268ca",
   "metadata": {},
   "outputs": [
    {
     "name": "stdout",
     "output_type": "stream",
     "text": [
      "500\n",
      "Accuracy: 0.99\n",
      "A\n",
      "Accuracy: 0.99\n",
      "71\n",
      "Accuracy: 1.00\n",
      "522\n",
      "Accuracy: 0.99\n",
      "520\n",
      "Accuracy: 0.99\n",
      "59\n",
      "Accuracy: 1.00\n",
      "510\n",
      "Accuracy: 1.00\n",
      "I\n",
      "Accuracy: 1.00\n",
      "118\n",
      "Accuracy: 0.99\n",
      "41\n",
      "Accuracy: 1.00\n",
      "K\n",
      "Accuracy: 1.00\n"
     ]
    }
   ],
   "source": [
    "for i in range(busnames.shape[0]):\n",
    "    print(busnames[i])\n",
    "    # bus regular Time data reshape\n",
    "    df=busRdata[busRdata['Bus Name']==busnames[i]]\n",
    "    date_range = pd.date_range(start='2023-10-02', end='2023-10-23', freq='D')\n",
    "    duplicated_data = []\n",
    "    for date in date_range:\n",
    "        duplicated_data.append(df.copy())\n",
    "        duplicated_data[-1]['Departure time'] = date.strftime('%Y-%m-%d') + ' ' + duplicated_data[-1]['Departure time']\n",
    "    BusRdata = pd.concat(duplicated_data, ignore_index=True)\n",
    "\n",
    "    BusRdata.set_index('Departure time',inplace=True)\n",
    "    BusCdata=busCdata[busCdata['trip.routeShortName'] == '500']\n",
    "\n",
    "    #combine bus data\n",
    "    Busdata=BusRdata.merge(BusCdata, left_index=True, right_index=True, how='outer')\n",
    "    \n",
    "    # bus data reshape\n",
    "    Busdata['time']=pd.to_datetime(Busdata.index)\n",
    "    Busdata['time']=Busdata['time'].round('H')\n",
    "    Busdata.set_index('time',inplace=True)\n",
    "    Busdata.loc[Busdata['Bus Name'] != busnames[i], 'Bus Name'] = busnames[i]\n",
    "    Busdata.drop(columns=['trip.routeShortName'],inplace=True)\n",
    "\n",
    "    Busdata.loc[Busdata['realtimeState'] != 'CANCELED', 'realtimeState'] = 1\n",
    "    Busdata.loc[Busdata['realtimeState'] == 'CANCELED', 'realtimeState'] = 0\n",
    "    \n",
    "    features=Mdata.keys()\n",
    "    alldata=Busdata.join(Mdata)\n",
    "    \n",
    "    # model building\n",
    "    label_encoder = LabelEncoder()\n",
    "    alldata['bus_canceled'] = label_encoder.fit_transform(alldata['realtimeState'])\n",
    "\n",
    "    train_size = 0.8  # You can adjust this ratio\n",
    "    split_index = int(len(alldata) * train_size)\n",
    "    train_data = alldata[:split_index]\n",
    "    test_data = alldata[split_index:]\n",
    "\n",
    "    # Separate features and target variable\n",
    "    X_train = train_data[features]\n",
    "    y_train = train_data['bus_canceled']\n",
    "    X_test = test_data[features]\n",
    "    y_test = test_data['bus_canceled']\n",
    "\n",
    "    # Model Training\n",
    "    model = XGBClassifier()\n",
    "    model.fit(X_train, y_train)\n",
    "\n",
    "    y_pred = model.predict(X_test)\n",
    "    accuracy = accuracy_score(y_test, y_pred)\n",
    "    report = classification_report(y_test, y_pred, target_names=['Not Canceled', 'Canceled'])\n",
    "    print(f\"Accuracy: {accuracy:.2f}\")\n",
    "    # print(report)"
   ]
  },
  {
   "cell_type": "markdown",
   "id": "c040f35f-737d-43a1-9cb5-27e5496484e8",
   "metadata": {},
   "source": [
    "# Data Analysis"
   ]
  },
  {
   "cell_type": "code",
   "execution_count": 403,
   "id": "cf39f5e0-70c3-47b1-8257-f0a7b2445915",
   "metadata": {
    "tags": []
   },
   "outputs": [
    {
     "data": {
      "image/png": "[encoded data removed]",
      "text/plain": [
       "<Figure size 1200x600 with 1 Axes>"
      ]
     },
     "metadata": {},
     "output_type": "display_data"
    }
   ],
   "source": [
    "filtered_data = BUScanceltimes[BUScanceltimes['Canceltime'] > 5]\n",
    "sorted_data = filtered_data.sort_values(by='Canceltime', ascending=False)\n",
    "\n",
    "# Extract data for plotting\n",
    "bus_names = sorted_data['Bus']\n",
    "cancel_times = sorted_data['Canceltime']\n",
    "\n",
    "# Create a bar plot\n",
    "plt.figure(figsize=(12, 6))  # Optional: Set the figure size\n",
    "plt.bar(bus_names, cancel_times, edgecolor='k')\n",
    "plt.xlabel('Bus Name')\n",
    "plt.ylabel('Cancel Times')\n",
    "plt.title('Canceled Trip Counts by Bus Route')\n",
    "plt.xticks(rotation=90)  # Rotate x-axis labels for readability\n",
    "# plt.show()\n",
    "plt.savefig('bus_cancel_times.png')\n"
   ]
  },
  {
   "cell_type": "code",
   "execution_count": null,
   "id": "4e1fd45b-b6fa-4733-b581-6bb3fcc49673",
   "metadata": {},
   "outputs": [],
   "source": []
  },
  {
   "cell_type": "code",
   "execution_count": 289,
   "id": "5c0a4080-5182-44d7-950a-7725ac8b2c2d",
   "metadata": {},
   "outputs": [
    {
     "data": {
      "text/plain": [
       "Index(['Bus Name', 'realtimeState', 'headsign', 'trip.gtfsId',\n",
       "       'trip.tripHeadsign', 'trip.routeShortName', 'trip.directionId',\n",
       "       'trip.pattern.code', 'trip.pattern.name', 'trip.route.gtfsId',\n",
       "       'trip.route.longName'],\n",
       "      dtype='object')"
      ]
     },
     "execution_count": 289,
     "metadata": {},
     "output_type": "execute_result"
    }
   ],
   "source": [
    "# Busdata.keys()\n",
    "# Busdata[Busdata['trip.routeShortName']=='nan']\n",
    "# Busdata['trip.route.longName'].unique()"
   ]
  }
 ],
 "metadata": {
  "kernelspec": {
   "display_name": "Python 3 (ipykernel)",
   "language": "python",
   "name": "python3"
  },
  "language_info": {
   "codemirror_mode": {
    "name": "ipython",
    "version": 3
   },
   "file_extension": ".py",
   "mimetype": "text/x-python",
   "name": "python",
   "nbconvert_exporter": "python",
   "pygments_lexer": "ipython3",
   "version": "3.9.13"
  }
 },
 "nbformat": 4,
 "nbformat_minor": 5
}
